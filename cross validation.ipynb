{
 "cells": [
  {
   "cell_type": "code",
   "execution_count": null,
   "metadata": {},
   "outputs": [],
   "source": []
  },
  {
   "cell_type": "code",
   "execution_count": 1,
   "metadata": {},
   "outputs": [
    {
     "name": "stdout",
     "output_type": "stream",
     "text": [
      "MSE scores for each fold are: [3627.52061315 6159.5905486  6033.10895389 6758.56929746 6156.84049347]\n",
      "Average MSE across all folds: 5747.125981315134\n"
     ]
    }
   ],
   "source": [
    "from sklearn.model_selection import cross_val_score\n",
    "from sklearn.ensemble import RandomForestRegressor\n",
    "from sklearn.datasets import make_regression\n",
    "\n",
    "# Generating synthetic dataset\n",
    "X, y = make_regression(n_samples=100, n_features=4, noise=0.2)\n",
    "\n",
    "# Creating the model\n",
    "model = RandomForestRegressor()\n",
    "\n",
    "# Performing cross-validation\n",
    "scores = cross_val_score(model, X, y, cv=5, scoring='neg_mean_squared_error')\n",
    "\n",
    "# The scores are negative MSE, so taking the negative of the scores gives you MSE\n",
    "mse_scores = -scores\n",
    "\n",
    "print(f\"MSE scores for each fold are: {mse_scores}\")\n",
    "print(f\"Average MSE across all folds: {mse_scores.mean()}\")"
   ]
  }
 ],
 "metadata": {
  "kernelspec": {
   "display_name": "Python 3",
   "language": "python",
   "name": "python3"
  },
  "language_info": {
   "codemirror_mode": {
    "name": "ipython",
    "version": 3
   },
   "file_extension": ".py",
   "mimetype": "text/x-python",
   "name": "python",
   "nbconvert_exporter": "python",
   "pygments_lexer": "ipython3",
   "version": "3.10.11"
  }
 },
 "nbformat": 4,
 "nbformat_minor": 2
}
