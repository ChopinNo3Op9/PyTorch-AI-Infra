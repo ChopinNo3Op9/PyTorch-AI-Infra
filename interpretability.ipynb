{
 "cells": [
  {
   "cell_type": "code",
   "execution_count": null,
   "metadata": {},
   "outputs": [],
   "source": []
  },
  {
   "cell_type": "code",
   "execution_count": null,
   "metadata": {},
   "outputs": [],
   "source": [
    "import torch\n",
    "from torchvision.models import resnet18\n",
    "from captum.attr import IntegratedGradients\n",
    "from captum.attr import visualization as viz\n",
    "\n",
    "# Load a pre-trained ResNet18 model\n",
    "model = resnet18(pretrained=True)\n",
    "model.eval()  # Set the model to evaluation mode\n",
    "\n",
    "# Assume img is a preprocessed image tensor\n",
    "# img = ...\n",
    "\n",
    "# Wrap model with Integrated Gradients\n",
    "ig = IntegratedGradients(model)\n",
    "\n",
    "# Compute attributions using Integrated Gradients\n",
    "attributions, delta = ig.attribute(img, target=0, return_convergence_delta=True)\n",
    "\n",
    "# Visualize the attributions\n",
    "# The visualization utility is more suitable for notebook environments\n",
    "viz.visualize_image_attr(attributions[0].cpu().permute(1,2,0).detach().numpy(), \n",
    "                         method=\"heat_map\", \n",
    "                         sign=\"all\", \n",
    "                         show_colorbar=True)\n"
   ]
  }
 ],
 "metadata": {
  "language_info": {
   "name": "python"
  }
 },
 "nbformat": 4,
 "nbformat_minor": 2
}
