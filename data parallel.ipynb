{
 "cells": [
  {
   "cell_type": "code",
   "execution_count": null,
   "metadata": {},
   "outputs": [],
   "source": [
    "import torch\n",
    "import torch.nn as nn\n",
    "import torch.optim as optim\n",
    "from torchvision import datasets, transforms, models\n",
    "from torch.utils.data import DataLoader, DistributedSampler\n",
    "import torch.distributed as dist\n",
    "import os"
   ]
  },
  {
   "cell_type": "code",
   "execution_count": null,
   "metadata": {},
   "outputs": [],
   "source": [
    "def main():\n",
    "    # Initialize distributed training environment\n",
    "    dist.init_process_group(backend='nccl', init_method='env://')  # number of GPUs\n",
    "\n",
    "    # Local Rank and Device Setting\n",
    "    local_rank = torch.distributed.get_rank()\n",
    "    torch.cuda.set_device(local_rank)  # instructing the current process to work with the GPU indexed by local_rank.\n",
    "    device = torch.device(\"cuda\", local_rank)\n",
    "\n",
    "    # Data transforms and loading\n",
    "    transform = transforms.Compose([\n",
    "        transforms.Resize(256),  # ResNet18 expects images of size 224x224\n",
    "        transforms.CenterCrop(224),\n",
    "        transforms.ToTensor(),\n",
    "        transforms.Normalize(mean=[0.485, 0.456, 0.406],\n",
    "                             std=[0.229, 0.224, 0.225]),\n",
    "    ])\n",
    "    \n",
    "    # Loading CIFAR10 dataset\n",
    "    train_dataset = datasets.CIFAR10(root='./data', train=True, download=True, transform=transform)\n",
    "    train_sampler = DistributedSampler(train_dataset)\n",
    "    train_loader = DataLoader(train_dataset, batch_size=64, shuffle=False, num_workers=4, pin_memory=True, sampler=train_sampler)\n",
    "\n",
    "    # Model setup\n",
    "    model = models.resnet18(pretrained=True)\n",
    "    model = model.to(device)\n",
    "    model = nn.parallel.DistributedDataParallel(model, device_ids=[local_rank], output_device=local_rank)\n",
    "\n",
    "    #  # Use data parallelism to utilize multiple GPUs\n",
    "    # if torch.cuda.is_available():\n",
    "    #     model = nn.DataParallel(model)\n",
    "    #     model = model.cuda()\n",
    "    \n",
    "    # Loss and optimizer\n",
    "    criterion = nn.CrossEntropyLoss().to(device)\n",
    "    optimizer = optim.SGD(model.parameters(), lr=0.001, momentum=0.9)\n",
    "\n",
    "    # Training loop\n",
    "    model.train()\n",
    "    for epoch in range(10):  # loop over the dataset multiple times\n",
    "        train_sampler.set_epoch(epoch)\n",
    "        for i, (inputs, labels) in enumerate(train_loader, 0):\n",
    "            inputs, labels = inputs.to(device), labels.to(device)\n",
    "            # if torch.cuda.is_available():\n",
    "            #     inputs, labels = inputs.cuda(), labels.cuda()\n",
    "            \n",
    "            # zero the parameter gradients\n",
    "            optimizer.zero_grad()\n",
    "\n",
    "            # forward + backward + optimize\n",
    "            outputs = model(inputs)\n",
    "            loss = criterion(outputs, labels)\n",
    "            loss.backward()\n",
    "            optimizer.step()\n",
    "            \n",
    "            if i % 100 == 0:\n",
    "                print(f'Epoch {epoch}, Batch {i}, Loss {loss.item()}')\n",
    "                \n",
    "    print('Finished Training')\n",
    "\n",
    "if __name__ == '__main__':\n",
    "    main()\n"
   ]
  },
  {
   "cell_type": "markdown",
   "metadata": {},
   "source": [
    "Multi-Node vs. Single-Node  \n",
    "The same code can be run in both multi-node and single-node setups. The distinction comes from the environment setup (e.g., number of nodes, GPUs per node, and how processes are spawned across these resources).  \n",
    "In a multi-node environment, this script would be launched simultaneously across several nodes, with environment variables set up to manage communication and process coordination.  \n",
    "In a single-node, multi-GPU environment, the script is run on a single machine but spawns multiple processes (one per GPU), with the coordination handled locally.  "
   ]
  },
  {
   "cell_type": "code",
   "execution_count": null,
   "metadata": {},
   "outputs": [],
   "source": [
    "# torchrun --nproc_per_node=4 your_script.py"
   ]
  }
 ],
 "metadata": {
  "language_info": {
   "name": "python"
  }
 },
 "nbformat": 4,
 "nbformat_minor": 2
}
