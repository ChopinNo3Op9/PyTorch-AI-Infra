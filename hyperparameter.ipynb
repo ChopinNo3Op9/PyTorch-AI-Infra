{
 "cells": [
  {
   "cell_type": "code",
   "execution_count": 4,
   "metadata": {},
   "outputs": [
    {
     "name": "stdout",
     "output_type": "stream",
     "text": [
      "Requirement already satisfied: hyperopt in c:\\users\\steven\\appdata\\local\\packages\\pythonsoftwarefoundation.python.3.10_qbz5n2kfra8p0\\localcache\\local-packages\\python310\\site-packages (0.2.7)\n",
      "Requirement already satisfied: numpy in c:\\users\\steven\\appdata\\local\\packages\\pythonsoftwarefoundation.python.3.10_qbz5n2kfra8p0\\localcache\\local-packages\\python310\\site-packages (from hyperopt) (1.23.5)\n",
      "Requirement already satisfied: scipy in c:\\users\\steven\\appdata\\local\\packages\\pythonsoftwarefoundation.python.3.10_qbz5n2kfra8p0\\localcache\\local-packages\\python310\\site-packages (from hyperopt) (1.11.4)\n",
      "Requirement already satisfied: six in c:\\users\\steven\\appdata\\local\\packages\\pythonsoftwarefoundation.python.3.10_qbz5n2kfra8p0\\localcache\\local-packages\\python310\\site-packages (from hyperopt) (1.16.0)\n",
      "Requirement already satisfied: networkx>=2.2 in c:\\users\\steven\\appdata\\local\\packages\\pythonsoftwarefoundation.python.3.10_qbz5n2kfra8p0\\localcache\\local-packages\\python310\\site-packages (from hyperopt) (3.2)\n",
      "Requirement already satisfied: future in c:\\users\\steven\\appdata\\local\\packages\\pythonsoftwarefoundation.python.3.10_qbz5n2kfra8p0\\localcache\\local-packages\\python310\\site-packages (from hyperopt) (0.18.3)\n",
      "Requirement already satisfied: tqdm in c:\\users\\steven\\appdata\\local\\packages\\pythonsoftwarefoundation.python.3.10_qbz5n2kfra8p0\\localcache\\local-packages\\python310\\site-packages (from hyperopt) (4.65.0)\n",
      "Requirement already satisfied: cloudpickle in c:\\users\\steven\\appdata\\local\\packages\\pythonsoftwarefoundation.python.3.10_qbz5n2kfra8p0\\localcache\\local-packages\\python310\\site-packages (from hyperopt) (2.2.1)\n",
      "Requirement already satisfied: py4j in c:\\users\\steven\\appdata\\local\\packages\\pythonsoftwarefoundation.python.3.10_qbz5n2kfra8p0\\localcache\\local-packages\\python310\\site-packages (from hyperopt) (0.10.9.7)\n",
      "Requirement already satisfied: colorama in c:\\users\\steven\\appdata\\local\\packages\\pythonsoftwarefoundation.python.3.10_qbz5n2kfra8p0\\localcache\\local-packages\\python310\\site-packages (from tqdm->hyperopt) (0.4.6)\n"
     ]
    },
    {
     "name": "stderr",
     "output_type": "stream",
     "text": [
      "WARNING: There was an error checking the latest version of pip.\n"
     ]
    }
   ],
   "source": [
    "! pip install hyperopt\n",
    "import numpy as np\n",
    "from hyperopt import hp, fmin, tpe, STATUS_OK"
   ]
  },
  {
   "cell_type": "code",
   "execution_count": 5,
   "metadata": {},
   "outputs": [
    {
     "name": "stdout",
     "output_type": "stream",
     "text": [
      "100%|██████████| 100/100 [00:00<00:00, 252.45trial/s, best loss: 0.013021815325322761]\n",
      "{'hyperparameter1': 0.1773098727553002, 'hyperparameter2': 1}\n"
     ]
    }
   ],
   "source": [
    "# Example objective function\n",
    "def objective_function(params):\n",
    "    # Simulate an evaluation with a random \"loss\"\n",
    "    loss = np.random.uniform(0, 1)\n",
    "    # Return a dictionary with the loss and the status\n",
    "    return {'loss': loss, 'status': STATUS_OK}\n",
    "\n",
    "# Define the space of hyperparameters to search\n",
    "space = {\n",
    "    'hyperparameter1': hp.uniform('hyperparameter1', 0, 1),\n",
    "    'hyperparameter2': hp.choice('hyperparameter2', ['option1', 'option2']),\n",
    "}\n",
    "\n",
    "# Run the optimization\n",
    "best_hyperparameters = fmin(\n",
    "    fn=objective_function,  # Function to minimize\n",
    "    space=space,            # Search space\n",
    "    algo=tpe.suggest,       # Algorithm (TPE)\n",
    "    max_evals=100           # Number of evaluations\n",
    ")\n",
    "\n",
    "print(best_hyperparameters)"
   ]
  },
  {
   "cell_type": "code",
   "execution_count": null,
   "metadata": {},
   "outputs": [],
   "source": [
    "import torch\n",
    "import torch.nn as nn\n",
    "import torch.optim as optim\n",
    "import torchvision.models as models\n",
    "import torchvision.transforms as transforms\n",
    "import torchvision.datasets as datasets\n",
    "from hyperopt import fmin, hp, tpe, STATUS_OK\n",
    "import numpy as np\n",
    "\n",
    "# Define a function to train and evaluate ResNet18 with given hyperparameters\n",
    "def train_evaluate(params):\n",
    "    # Define transforms for the data\n",
    "    transform = transforms.Compose([\n",
    "        transforms.Resize(256),\n",
    "        transforms.CenterCrop(224),\n",
    "        transforms.ToTensor(),\n",
    "        transforms.Normalize(mean=[0.485, 0.456, 0.406], std=[0.229, 0.224, 0.225]),\n",
    "    ])\n",
    "\n",
    "    # Load CIFAR-10 dataset\n",
    "    train_dataset = datasets.CIFAR10(root='./data', train=True, download=True, transform=transform)\n",
    "    test_dataset = datasets.CIFAR10(root='./data', train=False, download=True, transform=transform)\n",
    "\n",
    "    # Define data loaders\n",
    "    train_loader = torch.utils.data.DataLoader(train_dataset, batch_size=128, shuffle=True)\n",
    "    test_loader = torch.utils.data.DataLoader(test_dataset, batch_size=128, shuffle=False)\n",
    "\n",
    "    # Define ResNet18 model\n",
    "    model = models.resnet18()\n",
    "\n",
    "    # Set hyperparameters\n",
    "    lr = params['lr']\n",
    "    momentum = params['momentum']\n",
    "    weight_decay = params['weight_decay']\n",
    "\n",
    "    # Define loss function and optimizer\n",
    "    criterion = nn.CrossEntropyLoss()\n",
    "    optimizer = optim.SGD(model.parameters(), lr=lr, momentum=momentum, weight_decay=weight_decay)\n",
    "\n",
    "    # Train the model\n",
    "    model.train()\n",
    "    for epoch in range(5):  # Train for 5 epochs for demonstration\n",
    "        for images, labels in train_loader:\n",
    "            optimizer.zero_grad()\n",
    "            outputs = model(images)\n",
    "            loss = criterion(outputs, labels)\n",
    "            loss.backward()\n",
    "            optimizer.step()\n",
    "\n",
    "    # Evaluate the model\n",
    "    model.eval()\n",
    "    correct = 0\n",
    "    total = 0\n",
    "    with torch.no_grad():\n",
    "        for images, labels in test_loader:\n",
    "            outputs = model(images)\n",
    "            _, predicted = torch.max(outputs.data, 1)\n",
    "            total += labels.size(0)\n",
    "            correct += (predicted == labels).sum().item()\n",
    "\n",
    "    accuracy = correct / total\n",
    "    return {'loss': 1 - accuracy, 'status': STATUS_OK}  # Minimize 1 - accuracy\n",
    "\n",
    "# Define the space of hyperparameters to search\n",
    "space = {\n",
    "    'lr': hp.uniform('lr', 0.001, 0.1),\n",
    "    'momentum': hp.uniform('momentum', 0.5, 0.9),\n",
    "    'weight_decay': hp.uniform('weight_decay', 0.0001, 0.01)\n",
    "}\n",
    "\n",
    "# Run the optimization\n",
    "best_hyperparameters = fmin(\n",
    "    fn=train_evaluate,  # Function to minimize\n",
    "    space=space,        # Search space\n",
    "    algo=tpe.suggest,   # Algorithm (TPE) Bayesian Optimization\n",
    "    max_evals=10        # Number of evaluations\n",
    ")\n",
    "\n",
    "print(\"Best Hyperparameters:\", best_hyperparameters)"
   ]
  }
 ],
 "metadata": {
  "kernelspec": {
   "display_name": "Python 3",
   "language": "python",
   "name": "python3"
  },
  "language_info": {
   "codemirror_mode": {
    "name": "ipython",
    "version": 3
   },
   "file_extension": ".py",
   "mimetype": "text/x-python",
   "name": "python",
   "nbconvert_exporter": "python",
   "pygments_lexer": "ipython3",
   "version": "3.10.11"
  }
 },
 "nbformat": 4,
 "nbformat_minor": 2
}
